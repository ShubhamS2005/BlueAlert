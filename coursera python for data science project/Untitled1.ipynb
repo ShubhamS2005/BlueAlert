{
 "cells": [
  {
   "cell_type": "markdown",
   "id": "d4200401-8b57-447a-a6b5-36abe54673a9",
   "metadata": {},
   "source": [
    "<h1> STRESS DETECTION SYSTEM </h1>"
   ]
  },
  {
   "cell_type": "markdown",
   "id": "49cd7b28-d947-4cbb-bef1-3d688a73bd1d",
   "metadata": {},
   "source": [
    "University life is often considered one of the most stressful phases in a student’s life due to academic workload, competitive environment, social expectations, financial concerns, and future career uncertainty. Continuous exposure to such stressors can negatively impact students mental health, academic performance, and overall quality of life.\n",
    "For this project i have used a google form survey as my secondary dataset so that i can train my model for both the real time as well as the past dataset which i have taken from kaggle as csv file .While doing this project I  am going to use severel machine algorithms like random forest and many measures checking like precision ,accuracy.I will try to visulaize my data so that you can understand the data very well and in a wellstructured mannner.\n",
    "The steps which are going to be involved are:\n",
    "1.importing libraries like pandas,numpy ,sklearn,matplotlib,sns etc\n",
    "2.importing the csv file and gooogle form data into the jupyter notebook\n",
    "3.loading the dataset\n",
    "4.checking the features like its shape,size,info,summary etc\n",
    "5.checking and handling the missing values if any using the mean, mode depending on the numerical and categorical data\n",
    "6.visulaize the data\n",
    "7.traing the model by using both the google form as well as dataset\n",
    "8.making splits fpor training data and testing data and applying the machine algorithm \n",
    "9.checking the accuracy\n",
    "10.visulaizing some more like heatmaps,confusion matrix etc.\n",
    "11.giiving a conclusion note \n",
    "\n",
    "\n"
   ]
  },
  {
   "cell_type": "code",
   "execution_count": 3,
   "id": "95f5e45b-fa2d-4124-bac0-5c6d612f580f",
   "metadata": {},
   "outputs": [],
   "source": [
    "import pandas as pd\n",
    "import numpy as np\n",
    "import matplotlib.pyplot as plt\n",
    "import seaborn as sns"
   ]
  },
  {
   "cell_type": "code",
   "execution_count": 4,
   "id": "2a18f29b-2ccc-4a7b-821a-720ebc4613e2",
   "metadata": {},
   "outputs": [],
   "source": [
    "from sklearn.model_selection import train_test_split\n",
    "from sklearn.preprocessing import LabelEncoder, StandardScaler\n",
    "from sklearn.feature_extraction.text import TfidfVectorizer\n",
    "from sklearn.feature_selection import RFE\n",
    "from sklearn.linear_model import LogisticRegression\n",
    "from sklearn.ensemble import RandomForestClassifier\n",
    "from xgboost import XGBClassifier\n"
   ]
  },
  {
   "cell_type": "code",
   "execution_count": 5,
   "id": "b65bbf67-6f81-4d5c-9bef-f4cd291be9b2",
   "metadata": {},
   "outputs": [],
   "source": [
    "from sklearn.metrics import (\n",
    "    accuracy_score, precision_score, recall_score, f1_score, roc_auc_score,\n",
    "    confusion_matrix, classification_report\n",
    ")\n"
   ]
  },
  {
   "cell_type": "code",
   "execution_count": null,
   "id": "4bef9d5a-187e-4476-8c2e-b68090658d2b",
   "metadata": {},
   "outputs": [],
   "source": [
    "df = pd.read_csv(\"lifestyle.csv\")  \n",
    "print(df.head())\n",
    "print(\"Dataset Shape:\", df.shape)\n"
   ]
  },
  {
   "cell_type": "code",
   "execution_count": null,
   "id": "e098c09a-273c-48db-8a12-2391ba2b3def",
   "metadata": {},
   "outputs": [],
   "source": []
  },
  {
   "cell_type": "code",
   "execution_count": null,
   "id": "5fbde385-e217-4fba-98a7-192d8d8835bf",
   "metadata": {},
   "outputs": [],
   "source": []
  },
  {
   "cell_type": "code",
   "execution_count": null,
   "id": "4d5ae76c-e173-4838-864e-a5391d8d32ad",
   "metadata": {},
   "outputs": [],
   "source": []
  },
  {
   "cell_type": "code",
   "execution_count": null,
   "id": "25c74c75-1e6d-4e65-bb22-de891ce11eb9",
   "metadata": {},
   "outputs": [],
   "source": []
  },
  {
   "cell_type": "code",
   "execution_count": null,
   "id": "f712dc6e-69a1-4a38-9b44-ffd1ecf3f41f",
   "metadata": {},
   "outputs": [],
   "source": []
  },
  {
   "cell_type": "code",
   "execution_count": null,
   "id": "7f040628-47ab-4ed8-94ab-f8a3ee6ed8b8",
   "metadata": {},
   "outputs": [],
   "source": []
  },
  {
   "cell_type": "code",
   "execution_count": null,
   "id": "91e19cf4-d4fe-407c-971b-453c6c12816b",
   "metadata": {},
   "outputs": [],
   "source": []
  },
  {
   "cell_type": "code",
   "execution_count": null,
   "id": "6a830039-f860-41ad-ab62-e0a1bf328c5f",
   "metadata": {},
   "outputs": [],
   "source": []
  },
  {
   "cell_type": "code",
   "execution_count": null,
   "id": "0b46cca5-eefd-4bc3-8293-6c90311b0a1d",
   "metadata": {},
   "outputs": [],
   "source": []
  },
  {
   "cell_type": "code",
   "execution_count": null,
   "id": "568f6be3-a587-4657-a31c-24e0da9d2171",
   "metadata": {},
   "outputs": [],
   "source": []
  },
  {
   "cell_type": "code",
   "execution_count": null,
   "id": "61f7f357-46ae-4331-ade9-0cb0b7531e59",
   "metadata": {},
   "outputs": [],
   "source": []
  },
  {
   "cell_type": "code",
   "execution_count": null,
   "id": "7a0963e9-5324-4974-98a9-ffd503e8fac0",
   "metadata": {},
   "outputs": [],
   "source": []
  },
  {
   "cell_type": "raw",
   "id": "e7b3811b-b6ee-4991-bd29-d768eaf45632",
   "metadata": {},
   "source": []
  },
  {
   "cell_type": "code",
   "execution_count": null,
   "id": "dbec25c1-f099-4166-990b-aba90b9ec6f6",
   "metadata": {},
   "outputs": [],
   "source": []
  },
  {
   "cell_type": "code",
   "execution_count": null,
   "id": "9d8d6c27-c1c7-425f-b596-e562d0761be0",
   "metadata": {},
   "outputs": [],
   "source": []
  },
  {
   "cell_type": "code",
   "execution_count": null,
   "id": "2c8bef53-4fe7-47d0-b088-a54c9175b39f",
   "metadata": {},
   "outputs": [],
   "source": []
  }
 ],
 "metadata": {
  "kernelspec": {
   "display_name": "Python 3 (ipykernel)",
   "language": "python",
   "name": "python3"
  },
  "language_info": {
   "codemirror_mode": {
    "name": "ipython",
    "version": 3
   },
   "file_extension": ".py",
   "mimetype": "text/x-python",
   "name": "python",
   "nbconvert_exporter": "python",
   "pygments_lexer": "ipython3",
   "version": "3.12.3"
  }
 },
 "nbformat": 4,
 "nbformat_minor": 5
}
